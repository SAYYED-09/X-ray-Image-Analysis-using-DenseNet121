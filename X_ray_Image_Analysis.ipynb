{
  "nbformat": 4,
  "nbformat_minor": 0,
  "metadata": {
    "colab": {
      "provenance": [],
      "toc_visible": true
    },
    "kernelspec": {
      "name": "python3",
      "display_name": "Python 3"
    },
    "language_info": {
      "name": "python"
    }
  },
  "cells": [
    {
      "cell_type": "markdown",
      "source": [
        "**X-ray Image Analysis using DenseNet121**\n",
        "This notebook demonstrates:\n",
        "1. Preprocessing an X-ray image for feature extraction.\n",
        "2. Using a **pre-trained DenseNet121 model** to extract features.\n",
        "3. Generating diagnostic predictions (Normal, Pneumonia, COVID-19) using a simple text generator.\n",
        "\n",
        "The pipeline includes:\n",
        "- Loading and preprocessing an X-ray image.\n",
        "- Extracting features using DenseNet121.\n",
        "- Mapping the features to diagnostic labels using a simple classifier.\n"
      ],
      "metadata": {
        "id": "wehWdTNa57Gf"
      }
    },
    {
      "cell_type": "markdown",
      "source": [
        "# Install required libraries\n",
        "pip install torch torchvision pillow\n"
      ],
      "metadata": {
        "id": "QCksenaM6338"
      }
    },
    {
      "cell_type": "markdown",
      "source": [
        "## **1. Image Preprocessing**\n",
        "This step involves:\n",
        "- Loading the X-ray image.\n",
        "- Resizing, normalizing, and converting it to a tensor for processing."
      ],
      "metadata": {
        "id": "ssJmLLjZ7C3d"
      }
    },
    {
      "cell_type": "code",
      "source": [
        "import torch\n",
        "import torchvision.models as models\n",
        "import torchvision.transforms as transforms\n",
        "from PIL import Image\n",
        "\n",
        "# Load the pre-trained DenseNet121 model\n",
        "model = models.densenet121(pretrained=True)\n",
        "model.eval()  # Set to evaluation mode\n",
        "\n",
        "# Define transformations for the input image\n",
        "transform = transforms.Compose([\n",
        "    transforms.Resize((224, 224)),  # Resize to model's input size\n",
        "    transforms.ToTensor(),  # Convert to tensor\n",
        "    transforms.Normalize(mean=[0.485, 0.456, 0.406], std=[0.229, 0.224, 0.225])  # Normalize\n",
        "])\n",
        "\n",
        "# Load the X-ray image\n",
        "from google.colab import files\n",
        "uploaded = files.upload()  # Upload the image\n",
        "image_path = list(uploaded.keys())[0]  # Get the uploaded image file name\n",
        "image = Image.open(image_path).convert(\"RGB\")  # Ensure it's RGB\n",
        "input_tensor = transform(image).unsqueeze(0)  # Add batch dimension\n"
      ],
      "metadata": {
        "colab": {
          "base_uri": "https://localhost:8080/",
          "height": 73
        },
        "id": "9KZdZ4ri3IjI",
        "outputId": "b97f433e-ceb4-4cd5-c20d-4f34b8006741"
      },
      "execution_count": null,
      "outputs": [
        {
          "output_type": "display_data",
          "data": {
            "text/plain": [
              "<IPython.core.display.HTML object>"
            ],
            "text/html": [
              "\n",
              "     <input type=\"file\" id=\"files-ebd67f17-d7ff-4411-8ed8-faf512a37b9e\" name=\"files[]\" multiple disabled\n",
              "        style=\"border:none\" />\n",
              "     <output id=\"result-ebd67f17-d7ff-4411-8ed8-faf512a37b9e\">\n",
              "      Upload widget is only available when the cell has been executed in the\n",
              "      current browser session. Please rerun this cell to enable.\n",
              "      </output>\n",
              "      <script>// Copyright 2017 Google LLC\n",
              "//\n",
              "// Licensed under the Apache License, Version 2.0 (the \"License\");\n",
              "// you may not use this file except in compliance with the License.\n",
              "// You may obtain a copy of the License at\n",
              "//\n",
              "//      http://www.apache.org/licenses/LICENSE-2.0\n",
              "//\n",
              "// Unless required by applicable law or agreed to in writing, software\n",
              "// distributed under the License is distributed on an \"AS IS\" BASIS,\n",
              "// WITHOUT WARRANTIES OR CONDITIONS OF ANY KIND, either express or implied.\n",
              "// See the License for the specific language governing permissions and\n",
              "// limitations under the License.\n",
              "\n",
              "/**\n",
              " * @fileoverview Helpers for google.colab Python module.\n",
              " */\n",
              "(function(scope) {\n",
              "function span(text, styleAttributes = {}) {\n",
              "  const element = document.createElement('span');\n",
              "  element.textContent = text;\n",
              "  for (const key of Object.keys(styleAttributes)) {\n",
              "    element.style[key] = styleAttributes[key];\n",
              "  }\n",
              "  return element;\n",
              "}\n",
              "\n",
              "// Max number of bytes which will be uploaded at a time.\n",
              "const MAX_PAYLOAD_SIZE = 100 * 1024;\n",
              "\n",
              "function _uploadFiles(inputId, outputId) {\n",
              "  const steps = uploadFilesStep(inputId, outputId);\n",
              "  const outputElement = document.getElementById(outputId);\n",
              "  // Cache steps on the outputElement to make it available for the next call\n",
              "  // to uploadFilesContinue from Python.\n",
              "  outputElement.steps = steps;\n",
              "\n",
              "  return _uploadFilesContinue(outputId);\n",
              "}\n",
              "\n",
              "// This is roughly an async generator (not supported in the browser yet),\n",
              "// where there are multiple asynchronous steps and the Python side is going\n",
              "// to poll for completion of each step.\n",
              "// This uses a Promise to block the python side on completion of each step,\n",
              "// then passes the result of the previous step as the input to the next step.\n",
              "function _uploadFilesContinue(outputId) {\n",
              "  const outputElement = document.getElementById(outputId);\n",
              "  const steps = outputElement.steps;\n",
              "\n",
              "  const next = steps.next(outputElement.lastPromiseValue);\n",
              "  return Promise.resolve(next.value.promise).then((value) => {\n",
              "    // Cache the last promise value to make it available to the next\n",
              "    // step of the generator.\n",
              "    outputElement.lastPromiseValue = value;\n",
              "    return next.value.response;\n",
              "  });\n",
              "}\n",
              "\n",
              "/**\n",
              " * Generator function which is called between each async step of the upload\n",
              " * process.\n",
              " * @param {string} inputId Element ID of the input file picker element.\n",
              " * @param {string} outputId Element ID of the output display.\n",
              " * @return {!Iterable<!Object>} Iterable of next steps.\n",
              " */\n",
              "function* uploadFilesStep(inputId, outputId) {\n",
              "  const inputElement = document.getElementById(inputId);\n",
              "  inputElement.disabled = false;\n",
              "\n",
              "  const outputElement = document.getElementById(outputId);\n",
              "  outputElement.innerHTML = '';\n",
              "\n",
              "  const pickedPromise = new Promise((resolve) => {\n",
              "    inputElement.addEventListener('change', (e) => {\n",
              "      resolve(e.target.files);\n",
              "    });\n",
              "  });\n",
              "\n",
              "  const cancel = document.createElement('button');\n",
              "  inputElement.parentElement.appendChild(cancel);\n",
              "  cancel.textContent = 'Cancel upload';\n",
              "  const cancelPromise = new Promise((resolve) => {\n",
              "    cancel.onclick = () => {\n",
              "      resolve(null);\n",
              "    };\n",
              "  });\n",
              "\n",
              "  // Wait for the user to pick the files.\n",
              "  const files = yield {\n",
              "    promise: Promise.race([pickedPromise, cancelPromise]),\n",
              "    response: {\n",
              "      action: 'starting',\n",
              "    }\n",
              "  };\n",
              "\n",
              "  cancel.remove();\n",
              "\n",
              "  // Disable the input element since further picks are not allowed.\n",
              "  inputElement.disabled = true;\n",
              "\n",
              "  if (!files) {\n",
              "    return {\n",
              "      response: {\n",
              "        action: 'complete',\n",
              "      }\n",
              "    };\n",
              "  }\n",
              "\n",
              "  for (const file of files) {\n",
              "    const li = document.createElement('li');\n",
              "    li.append(span(file.name, {fontWeight: 'bold'}));\n",
              "    li.append(span(\n",
              "        `(${file.type || 'n/a'}) - ${file.size} bytes, ` +\n",
              "        `last modified: ${\n",
              "            file.lastModifiedDate ? file.lastModifiedDate.toLocaleDateString() :\n",
              "                                    'n/a'} - `));\n",
              "    const percent = span('0% done');\n",
              "    li.appendChild(percent);\n",
              "\n",
              "    outputElement.appendChild(li);\n",
              "\n",
              "    const fileDataPromise = new Promise((resolve) => {\n",
              "      const reader = new FileReader();\n",
              "      reader.onload = (e) => {\n",
              "        resolve(e.target.result);\n",
              "      };\n",
              "      reader.readAsArrayBuffer(file);\n",
              "    });\n",
              "    // Wait for the data to be ready.\n",
              "    let fileData = yield {\n",
              "      promise: fileDataPromise,\n",
              "      response: {\n",
              "        action: 'continue',\n",
              "      }\n",
              "    };\n",
              "\n",
              "    // Use a chunked sending to avoid message size limits. See b/62115660.\n",
              "    let position = 0;\n",
              "    do {\n",
              "      const length = Math.min(fileData.byteLength - position, MAX_PAYLOAD_SIZE);\n",
              "      const chunk = new Uint8Array(fileData, position, length);\n",
              "      position += length;\n",
              "\n",
              "      const base64 = btoa(String.fromCharCode.apply(null, chunk));\n",
              "      yield {\n",
              "        response: {\n",
              "          action: 'append',\n",
              "          file: file.name,\n",
              "          data: base64,\n",
              "        },\n",
              "      };\n",
              "\n",
              "      let percentDone = fileData.byteLength === 0 ?\n",
              "          100 :\n",
              "          Math.round((position / fileData.byteLength) * 100);\n",
              "      percent.textContent = `${percentDone}% done`;\n",
              "\n",
              "    } while (position < fileData.byteLength);\n",
              "  }\n",
              "\n",
              "  // All done.\n",
              "  yield {\n",
              "    response: {\n",
              "      action: 'complete',\n",
              "    }\n",
              "  };\n",
              "}\n",
              "\n",
              "scope.google = scope.google || {};\n",
              "scope.google.colab = scope.google.colab || {};\n",
              "scope.google.colab._files = {\n",
              "  _uploadFiles,\n",
              "  _uploadFilesContinue,\n",
              "};\n",
              "})(self);\n",
              "</script> "
            ]
          },
          "metadata": {}
        },
        {
          "output_type": "stream",
          "name": "stdout",
          "text": [
            "Saving N x -ray.jpeg to N x -ray (2).jpeg\n"
          ]
        }
      ]
    },
    {
      "cell_type": "markdown",
      "source": [
        "## **2. Feature Extraction Using DenseNet121**\n",
        "This step involves extracting features from the image using the DenseNet121 model. Global Average Pooling is applied to reduce the size of the feature map.\n"
      ],
      "metadata": {
        "id": "8X47JV7A7Qef"
      }
    },
    {
      "cell_type": "code",
      "source": [
        "# Extract features using DenseNet121\n",
        "with torch.no_grad():\n",
        "    features = model.features(input_tensor)  # Extract feature map\n",
        "    pooled_features = torch.mean(features, dim=[2, 3])  # Global Average Pooling\n",
        "    print(\"Extracted Features Shape:\", pooled_features.shape)\n"
      ],
      "metadata": {
        "id": "C_6N_8jK4iK_",
        "colab": {
          "base_uri": "https://localhost:8080/"
        },
        "outputId": "49b340d6-aa2a-474b-cece-28b45c343023"
      },
      "execution_count": null,
      "outputs": [
        {
          "output_type": "stream",
          "name": "stdout",
          "text": [
            "Extracted Features Shape: torch.Size([1, 1024])\n"
          ]
        }
      ]
    },
    {
      "cell_type": "markdown",
      "source": [
        "## **3. Diagnostic Prediction**\n",
        "Using a simple text generator to classify the extracted features into one of the diagnostic categories:\n",
        "- Normal\n",
        "- Pneumonia\n",
        "- COVID-19\n"
      ],
      "metadata": {
        "id": "GHHmQfn87YiB"
      }
    },
    {
      "cell_type": "code",
      "source": [
        "import torch.nn as nn\n",
        "\n",
        "# Define a simple classifier\n",
        "class SimpleTextGenerator(nn.Module):\n",
        "    def __init__(self, input_dim, output_dim):\n",
        "        super(SimpleTextGenerator, self).__init__()\n",
        "        self.fc = nn.Linear(input_dim, output_dim)  # Map features to categories\n",
        "\n",
        "    def forward(self, x):\n",
        "        return self.fc(x)\n",
        "\n",
        "# Initialize the text generator model\n",
        "text_generator = SimpleTextGenerator(input_dim=1024, output_dim=3)\n",
        "\n",
        "# Pass the extracted features through the classifier\n",
        "generated_output = text_generator(pooled_features)\n",
        "\n",
        "# Apply softmax to get probabilities\n",
        "softmax = nn.Softmax(dim=1)\n",
        "probabilities = softmax(generated_output)\n",
        "\n",
        "# Get the predicted class\n",
        "predicted_class = torch.argmax(probabilities, dim=1)\n",
        "print(f\"Predicted Class (1=Normal, 0=Pneumonia, 2=COVID-19): {predicted_class.item()}\")\n",
        "\n",
        "# Map the predicted class to descriptive text\n",
        "class_to_text = {\n",
        "    0: \"This X-ray is normal.\",\n",
        "    1: \"This X-ray shows signs of pneumonia.\",\n",
        "    2: \"This X-ray shows signs of COVID-19.\"\n",
        "}\n",
        "generated_text = class_to_text[predicted_class.item()]\n",
        "print(f\"Generated Text: {generated_text}\")\n"
      ],
      "metadata": {
        "colab": {
          "base_uri": "https://localhost:8080/"
        },
        "id": "ah3LkIhu4y03",
        "outputId": "68aed520-abf2-42ee-9a2a-db7c5dfe771a"
      },
      "execution_count": null,
      "outputs": [
        {
          "output_type": "stream",
          "name": "stdout",
          "text": [
            "Predicted Class (1=Normal, 0=Pneumonia, 2=COVID-19): 0\n",
            "Generated Text: This X-ray is normal.\n"
          ]
        }
      ]
    },
    {
      "cell_type": "markdown",
      "source": [
        "## **4. Results**\n",
        "The diagnostic result will be displayed as a text description, such as:\n",
        "- *\"This X-ray is normal.\"*\n",
        "- *\"This X-ray shows signs of pneumonia.\"*\n",
        "- *\"This X-ray shows signs of COVID-19.\"*\n"
      ],
      "metadata": {
        "id": "YvNCFhtn7h34"
      }
    }
  ]
}